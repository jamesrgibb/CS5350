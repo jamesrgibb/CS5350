{
 "cells": [
  {
   "cell_type": "code",
   "execution_count": 35,
   "outputs": [],
   "source": [
    "import pandas as pd\n",
    "import numpy as np\n",
    "from scipy import stats\n",
    "from scipy.stats import mode\n",
    "import matplotlib.pyplot as plt\n",
    "from concurrent.futures import ThreadPoolExecutor\n",
    "import random\n",
    "import warnings\n",
    "warnings.simplefilter(action='ignore', category=FutureWarning)\n",
    "# Initialize cache for impurity calculation\n",
    "impurity_cache = {}"
   ],
   "metadata": {
    "collapsed": false,
    "ExecuteTime": {
     "end_time": "2023-10-27T22:15:10.492381Z",
     "start_time": "2023-10-27T22:15:10.481798Z"
    }
   },
   "id": "b687797fe037db88"
  },
  {
   "cell_type": "code",
   "execution_count": 36,
   "outputs": [],
   "source": [
    "# Cached impurity calculation\n",
    "def cached_impurity(target_col, criterion_func):\n",
    "    key = hash(target_col.tostring())\n",
    "    if key in impurity_cache:\n",
    "        return impurity_cache[key]\n",
    "    impurity_value = criterion_func(target_col)\n",
    "    impurity_cache[key] = impurity_value\n",
    "    return impurity_value"
   ],
   "metadata": {
    "collapsed": false,
    "ExecuteTime": {
     "end_time": "2023-10-27T22:15:11.154090Z",
     "start_time": "2023-10-27T22:15:11.151321Z"
    }
   },
   "id": "ae8801812e21c015"
  },
  {
   "cell_type": "code",
   "execution_count": 37,
   "outputs": [],
   "source": [
    "# Define weighted entropy\n",
    "def weighted_entropy(target_col, weights):\n",
    "    total = np.sum(weights)\n",
    "    values, counts = np.unique(target_col, return_counts=True)\n",
    "    weighted_probs = np.sum(weights[np.isin(target_col, values)], axis=0) / total\n",
    "    return -np.sum(weighted_probs * np.log2(weighted_probs))"
   ],
   "metadata": {
    "collapsed": false,
    "ExecuteTime": {
     "end_time": "2023-10-27T22:15:11.806037Z",
     "start_time": "2023-10-27T22:15:11.803489Z"
    }
   },
   "id": "50782cd4ce56361a"
  },
  {
   "cell_type": "code",
   "execution_count": 38,
   "outputs": [],
   "source": [
    "# Calculate weighted information gain\n",
    "def weighted_info_gain(data, split_attribute_name, target_name, weights):\n",
    "    total_weight = np.sum(weights)\n",
    "    total_impurity = weighted_entropy(data[target_name], weights)\n",
    "    groups = data.groupby(split_attribute_name)\n",
    "    weighted_impurity = np.sum(\n",
    "        [(np.sum(weights.loc[group.index]) / total_weight) * weighted_entropy(group[target_name], weights.loc[group.index])\n",
    "         for _, group in groups]\n",
    "    )\n",
    "    return total_impurity - weighted_impurity"
   ],
   "metadata": {
    "collapsed": false,
    "ExecuteTime": {
     "end_time": "2023-10-27T22:15:12.526151Z",
     "start_time": "2023-10-27T22:15:12.523494Z"
    }
   },
   "id": "53edf660d361db1e"
  },
  {
   "cell_type": "code",
   "execution_count": 39,
   "outputs": [],
   "source": [
    "def decision_stump(data, original_data, features, target_attribute_name=\"y\", weights=None):\n",
    "    if weights is None:\n",
    "        weights = pd.Series(1, index=data.index)\n",
    "\n",
    "    gains = np.array([\n",
    "        weighted_info_gain(data, feature, target_attribute_name, weights)\n",
    "        for feature in features\n",
    "    ])\n",
    "    best_feature_idx = np.argmax(gains)\n",
    "    best_feature = features[best_feature_idx]\n",
    "    tree = {best_feature: {}}\n",
    "\n",
    "    for value in np.unique(data[best_feature]):\n",
    "        value_mask = data[best_feature] == value\n",
    "        subset_data = data[value_mask]\n",
    "        subset_weights = weights[value_mask]\n",
    "        majority_class = subset_data[target_attribute_name].value_counts().idxmax()\n",
    "        tree[best_feature][value] = majority_class\n",
    "\n",
    "    return tree"
   ],
   "metadata": {
    "collapsed": false,
    "ExecuteTime": {
     "end_time": "2023-10-27T22:15:13.549759Z",
     "start_time": "2023-10-27T22:15:13.547340Z"
    }
   },
   "id": "2c38c5d74e219256"
  },
  {
   "cell_type": "code",
   "execution_count": 40,
   "outputs": [],
   "source": [
    "# Prediction function for decision stumps\n",
    "def predict(row, tree):\n",
    "    while isinstance(tree, dict):\n",
    "        feature = next(iter(tree))\n",
    "        value = row[feature]\n",
    "        tree = tree[feature][value]\n",
    "    return tree"
   ],
   "metadata": {
    "collapsed": false,
    "ExecuteTime": {
     "end_time": "2023-10-27T22:15:14.103080Z",
     "start_time": "2023-10-27T22:15:14.098011Z"
    }
   },
   "id": "d07777432a5fcc43"
  },
  {
   "cell_type": "code",
   "execution_count": 41,
   "outputs": [],
   "source": [
    "def adaboost(T, train_data, test_data, features, target=\"y\"):\n",
    "    N = len(train_data)\n",
    "    w = pd.Series(1/N, index=train_data.index)\n",
    "    stumps = []\n",
    "    alphas = []\n",
    "    sum_w = np.sum(w)\n",
    "\n",
    "    for t in range(T):\n",
    "        stump = decision_stump(train_data, train_data, features, weights=w)\n",
    "        predictions = np.array([predict(row, stump) for _, row in train_data.iterrows()])\n",
    "        err = np.not_equal(predictions, train_data[target].values).astype(int)\n",
    "        epsilon = np.dot(w, err) / sum_w\n",
    "        alpha = 0.5 * np.log((1 - epsilon) / epsilon)\n",
    "        w *= np.exp(-alpha * train_data[target] * pd.Series(predictions, index=train_data.index))\n",
    "        sum_w = np.sum(w)\n",
    "        w /= sum_w\n",
    "        stumps.append(stump)\n",
    "        alphas.append(alpha)\n",
    "\n",
    "    return stumps, alphas"
   ],
   "metadata": {
    "collapsed": false,
    "ExecuteTime": {
     "end_time": "2023-10-27T22:15:14.889329Z",
     "start_time": "2023-10-27T22:15:14.887185Z"
    }
   },
   "id": "3d11a1379896bd1b"
  },
  {
   "cell_type": "code",
   "execution_count": 42,
   "outputs": [],
   "source": [
    "def adaboost_predict(data, stumps, alphas, target=\"y\"):\n",
    "    N = len(data)\n",
    "    final_predictions = np.zeros(N)\n",
    "\n",
    "    # Pre-allocate an array to store individual predictions\n",
    "    all_predictions = np.zeros((N, len(stumps)))\n",
    "\n",
    "    # Compute predictions for each stump and store them\n",
    "    for i, (stump, alpha) in enumerate(zip(stumps, alphas)):\n",
    "        predictions = np.array([predict(row, stump) for _, row in data.iterrows()])\n",
    "        all_predictions[:, i] = alpha * predictions\n",
    "\n",
    "    # Sum along the columns to get the final weighted sum of predictions\n",
    "    final_predictions = np.sum(all_predictions, axis=1)\n",
    "\n",
    "    # Compute the sign of the final predictions\n",
    "    final_predictions = np.sign(final_predictions)\n",
    "\n",
    "    # Compute the error rate\n",
    "    errors = (final_predictions != data[target].to_numpy()).astype(int)\n",
    "    error_rate = np.sum(errors) / N\n",
    "\n",
    "    return final_predictions, error_rate"
   ],
   "metadata": {
    "collapsed": false,
    "ExecuteTime": {
     "end_time": "2023-10-27T22:15:15.746154Z",
     "start_time": "2023-10-27T22:15:15.744064Z"
    }
   },
   "id": "de9016498e1c15d9"
  },
  {
   "cell_type": "code",
   "execution_count": 43,
   "outputs": [],
   "source": [
    "# Read training and test datasets\n",
    "columns = [\"age\", \"job\", \"marital\", \"education\", \"default\", \"balance\", \"housing\", \"loan\", \"contact\", \"day_of_week\", \"month\", \"duration\", \"campaign\", \"pdays\", \"previous\", \"poutcome\", \"y\"]\n",
    "train_data = pd.read_csv('bank-7/train.csv', names=columns, header=None)\n",
    "test_data = pd.read_csv('bank-7/test.csv', names=columns, header=None)\n",
    "\n",
    "# Map 'y' column to numerical values\n",
    "train_data['y'] = train_data['y'].map({'yes': 1, 'no': 0})\n",
    "test_data['y'] = test_data['y'].map({'yes': 1, 'no': 0})\n",
    "\n",
    "# List of numerical variables to be categorized based on their median\n",
    "variables = [\"age\", \"balance\", \"day_of_week\", \"duration\", \"campaign\", \"previous\", \"pdays\"]\n",
    "\n",
    "# Compute median from training data for each variable and categorize both training and test data\n",
    "medians = train_data[variables].median()\n",
    "train_data[variables] = (train_data[variables] >= medians).applymap(lambda x: 'high' if x else 'low')\n",
    "test_data[variables] = (test_data[variables] >= medians).applymap(lambda x: 'high' if x else 'low')"
   ],
   "metadata": {
    "collapsed": false,
    "ExecuteTime": {
     "end_time": "2023-10-27T22:15:18.056684Z",
     "start_time": "2023-10-27T22:15:18.036403Z"
    }
   },
   "id": "60295cfb882d2957"
  },
  {
   "cell_type": "code",
   "execution_count": 22,
   "outputs": [
    {
     "name": "stdout",
     "output_type": "stream",
     "text": [
      "Iteration 1\n",
      "Iteration 2\n",
      "Iteration 5\n",
      "Iteration 10\n",
      "Iteration 20\n",
      "Iteration 50\n",
      "Iteration 100\n",
      "Iteration 200\n",
      "Iteration 500\n"
     ]
    },
    {
     "data": {
      "text/plain": "<Figure size 1200x600 with 1 Axes>",
      "image/png": "[encoded data removed]"
     },
     "metadata": {},
     "output_type": "display_data"
    },
    {
     "data": {
      "text/plain": "[<matplotlib.lines.Line2D at 0x2a0043590>]"
     },
     "execution_count": 22,
     "metadata": {},
     "output_type": "execute_result"
    },
    {
     "data": {
      "text/plain": "<Figure size 1200x600 with 1 Axes>",
      "image/png": "[encoded data removed]"
     },
     "metadata": {},
     "output_type": "display_data"
    }
   ],
   "source": [
    "tree_range = [1, 2, 5, 10, 20, 50, 100, 200, 500]\n",
    "features = list(train_data.columns[:-1])\n",
    "\n",
    "n_iterations = len(tree_range)\n",
    "train_errors = np.zeros(n_iterations)\n",
    "test_errors = np.zeros(n_iterations)\n",
    "train_stump_errors = []\n",
    "test_stump_errors = []\n",
    "\n",
    "for i, T in enumerate(tree_range):\n",
    "    print(f\"Iteration {T}\")\n",
    "    stumps, alphas, train_stump_err, test_stump_err = adaboost(T, train_data, test_data, features)\n",
    "\n",
    "    _, train_errors[i] = adaboost_predict(train_data, stumps, alphas)\n",
    "    _, test_errors[i] = adaboost_predict(test_data, stumps, alphas)\n",
    "\n",
    "    train_stump_errors.extend(train_stump_err)\n",
    "    test_stump_errors.extend(test_stump_err)\n",
    "\n",
    "plt.figure(figsize=(12, 6))\n",
    "plt.plot(tree_range, train_errors, label='Train Error')\n",
    "plt.plot(tree_range, test_errors, label='Test Error')\n",
    "plt.xlabel('Number of Iterations (T)')\n",
    "plt.ylabel('Error Rate')\n",
    "plt.legend()\n",
    "plt.title('AdaBoost: Error Rates vs Number of Iterations')\n",
    "plt.show()\n",
    "\n",
    "plt.figure(figsize=(12, 6))\n",
    "plt.plot(range(len(train_stump_errors)), train_stump_errors, label='Train Stump Errors')\n",
    "plt.plot(range(len(test_stump_errors)), test_stump_errors, label='Test Stump Errors')\n",
    "plt.xlabel('Iteration')\n",
    "plt.ylabel('Error Rate')\n",
    "plt.legend()\n",
    "plt.title('AdaBoost: Error Rates vs Iteration')\n",
    "plt.show()"
   ],
   "metadata": {
    "collapsed": false,
    "ExecuteTime": {
     "end_time": "2023-10-27T21:34:07.574052Z",
     "start_time": "2023-10-27T21:29:50.020094Z"
    }
   },
   "id": "daed151dd8b9679d"
  },
  {
   "cell_type": "markdown",
   "source": [
    "## Problem 2A"
   ],
   "metadata": {
    "collapsed": false
   },
   "id": "260e1aaf1a248359"
  },
  {
   "cell_type": "code",
   "execution_count": 44,
   "outputs": [],
   "source": [
    "# Define entropy\n",
    "def entropy(target_col):\n",
    "    _, counts = np.unique(target_col, return_counts=True)\n",
    "    probabilities = counts / len(target_col)\n",
    "    return -np.sum(probabilities * np.log2(probabilities))"
   ],
   "metadata": {
    "collapsed": false,
    "ExecuteTime": {
     "end_time": "2023-10-27T22:15:33.296963Z",
     "start_time": "2023-10-27T22:15:33.293609Z"
    }
   },
   "id": "d60d65c53e814bb9"
  },
  {
   "cell_type": "code",
   "execution_count": 45,
   "outputs": [],
   "source": [
    "# Define majority error with NumPy\n",
    "def majority_error(target_col):\n",
    "    return 1 - np.max(np.bincount(target_col) / len(target_col))"
   ],
   "metadata": {
    "collapsed": false,
    "ExecuteTime": {
     "end_time": "2023-10-27T22:15:33.787810Z",
     "start_time": "2023-10-27T22:15:33.785277Z"
    }
   },
   "id": "d98a9d4b4433df5c"
  },
  {
   "cell_type": "code",
   "execution_count": 46,
   "outputs": [],
   "source": [
    "# Define gini index with NumPy\n",
    "def gini_index(target_col):\n",
    "    _, counts = np.unique(target_col, return_counts=True)\n",
    "    probabilities = counts / len(target_col)\n",
    "    return 1 - np.sum(probabilities**2)"
   ],
   "metadata": {
    "collapsed": false,
    "ExecuteTime": {
     "end_time": "2023-10-27T22:15:34.366642Z",
     "start_time": "2023-10-27T22:15:34.362855Z"
    }
   },
   "id": "8148863065211c15"
  },
  {
   "cell_type": "code",
   "execution_count": 47,
   "outputs": [],
   "source": [
    "# Information Gain with caching\n",
    "def info_gain(data, split_attribute_name, target_name, criterion=\"entropy\"):\n",
    "    criterion_func = {'entropy': entropy, 'majority_error': majority_error, 'gini_index': gini_index}[criterion]\n",
    "    total_impurity = criterion_func(data[target_name])\n",
    "\n",
    "    weighted_impurity = 0\n",
    "    for value, group in data.groupby(split_attribute_name):\n",
    "        weighted_impurity += (len(group) / len(data)) * criterion_func(group[target_name])\n",
    "\n",
    "    return total_impurity - weighted_impurity"
   ],
   "metadata": {
    "collapsed": false,
    "ExecuteTime": {
     "end_time": "2023-10-27T22:15:34.869057Z",
     "start_time": "2023-10-27T22:15:34.866538Z"
    }
   },
   "id": "fb8c6105f18d96c3"
  },
  {
   "cell_type": "code",
   "execution_count": 48,
   "outputs": [],
   "source": [
    "def ID3_numeric(data, original_data, features, target_attribute_name=\"y\", parent_node_class=None,\n",
    "                max_depth=None, depth=0, criterion=\"entropy\"):\n",
    "    unique_targets = np.unique(data[target_attribute_name])\n",
    "    if len(unique_targets) == 1:\n",
    "        return unique_targets[0]\n",
    "\n",
    "    if len(data) == 0:\n",
    "        return get_majority_class(original_data, target_attribute_name)\n",
    "\n",
    "    if len(features) == 0 or (max_depth and depth == max_depth):\n",
    "        return parent_node_class\n",
    "\n",
    "    parent_node_class = get_majority_class(data, target_attribute_name)\n",
    "\n",
    "    gains = [info_gain(data, feature, target_attribute_name, criterion) for feature in features]\n",
    "    best_feature = features[np.argmax(gains)]\n",
    "    tree = {best_feature: {}}\n",
    "\n",
    "    for value in np.unique(data[best_feature]):\n",
    "        best_val = data[best_feature] == value\n",
    "        sub_data = data.where(best_val).dropna()\n",
    "        remaining_features = [feat for feat in features if feat != best_feature]\n",
    "        subtree = ID3_numeric(\n",
    "            data=sub_data,\n",
    "            original_data=original_data,\n",
    "            features=remaining_features,\n",
    "            target_attribute_name=target_attribute_name,\n",
    "            parent_node_class=parent_node_class,\n",
    "            max_depth=max_depth,\n",
    "            depth=depth + 1,\n",
    "            criterion=criterion\n",
    "        )\n",
    "        tree[best_feature][value] = subtree\n",
    "    return tree"
   ],
   "metadata": {
    "collapsed": false,
    "ExecuteTime": {
     "end_time": "2023-10-27T22:15:35.465983Z",
     "start_time": "2023-10-27T22:15:35.463524Z"
    }
   },
   "id": "f865d58508b8eddc"
  },
  {
   "cell_type": "code",
   "execution_count": 49,
   "outputs": [],
   "source": [
    "def bag_predict(row, tree, default_class=None):\n",
    "    current_node = tree\n",
    "    while isinstance(current_node, dict):\n",
    "        feature = next(iter(current_node))\n",
    "        value = row[feature]\n",
    "        next_node = current_node[feature].get(value, default_class)\n",
    "\n",
    "        if next_node is default_class:\n",
    "            return default_class\n",
    "\n",
    "        current_node = next_node\n",
    "\n",
    "    return current_node"
   ],
   "metadata": {
    "collapsed": false,
    "ExecuteTime": {
     "end_time": "2023-10-27T22:15:36.043242Z",
     "start_time": "2023-10-27T22:15:36.039737Z"
    }
   },
   "id": "e8a9bb0ac3d0f1d4"
  },
  {
   "cell_type": "code",
   "execution_count": 50,
   "outputs": [],
   "source": [
    "def batch_vote(trees, data, default_class):\n",
    "    all_predictions = []\n",
    "    for tree in trees:\n",
    "        try:\n",
    "            if isinstance(data, pd.DataFrame):\n",
    "                predictions = data.apply(lambda row: bag_predict(row, tree, default_class), axis=1)\n",
    "            elif isinstance(data, pd.Series):\n",
    "                predictions = bag_predict(data, tree, default_class)\n",
    "            else:\n",
    "                raise ValueError(\"Unsupported data type. Expected a DataFrame or Series.\")\n",
    "        except Exception as e:\n",
    "            print(f\"Error: {e}\")\n",
    "            print(f\"Tree: {tree}\")\n",
    "            print(f\"Default Class: {default_class}\")\n",
    "            raise  # Re-raise the caught exception\n",
    "\n",
    "        all_predictions.append(predictions)\n",
    "\n",
    "    all_predictions = np.array(all_predictions)\n",
    "\n",
    "    if all_predictions.ndim > 1:\n",
    "        final_predictions = mode(all_predictions, axis=0)[0][0]\n",
    "    else:\n",
    "        final_predictions = all_predictions[0]\n",
    "\n",
    "    return final_predictions"
   ],
   "metadata": {
    "collapsed": false,
    "ExecuteTime": {
     "end_time": "2023-10-27T22:15:36.567496Z",
     "start_time": "2023-10-27T22:15:36.565681Z"
    }
   },
   "id": "cb3861c470d3ee35"
  },
  {
   "cell_type": "code",
   "execution_count": 51,
   "outputs": [],
   "source": [
    "def get_majority_class(data, target_attribute_name):\n",
    "    return data[target_attribute_name].mode()[0]"
   ],
   "metadata": {
    "collapsed": false,
    "ExecuteTime": {
     "end_time": "2023-10-27T22:15:37.198549Z",
     "start_time": "2023-10-27T22:15:37.194683Z"
    }
   },
   "id": "2b5afb30b899edab"
  },
  {
   "cell_type": "code",
   "execution_count": 52,
   "outputs": [],
   "source": [
    "def create_bootstrap_sample(data):\n",
    "    return data.sample(replace=True)"
   ],
   "metadata": {
    "collapsed": false,
    "ExecuteTime": {
     "end_time": "2023-10-27T22:15:37.705732Z",
     "start_time": "2023-10-27T22:15:37.702937Z"
    }
   },
   "id": "17bb2d154f09a174"
  },
  {
   "cell_type": "code",
   "execution_count": 53,
   "outputs": [],
   "source": [
    "def bagging(n_trees, train_data, test_data, features, target=\"y\", default_class=None):\n",
    "    trees = [ID3_numeric(train_data.sample(frac=1, replace=True), train_data, features) for _ in range(n_trees)]\n",
    "\n",
    "    train_predictions = batch_vote(trees, train_data, default_class)\n",
    "    test_predictions = batch_vote(trees, test_data, default_class)\n",
    "\n",
    "    train_error = np.mean(train_predictions != train_data[target].to_numpy())\n",
    "    test_error = np.mean(test_predictions != test_data[target].to_numpy())\n",
    "\n",
    "    return trees, train_error, test_error"
   ],
   "metadata": {
    "collapsed": false,
    "ExecuteTime": {
     "end_time": "2023-10-27T22:15:38.617919Z",
     "start_time": "2023-10-27T22:15:38.613591Z"
    }
   },
   "id": "428fd1d38f780b6"
  },
  {
   "cell_type": "markdown",
   "source": [
    "## Problem 2B"
   ],
   "metadata": {
    "collapsed": false
   },
   "id": "dd4fbaf60e9810e4"
  },
  {
   "cell_type": "code",
   "execution_count": 33,
   "outputs": [
    {
     "name": "stdout",
     "output_type": "stream",
     "text": [
      "Number of trees: 1\n",
      "Number of trees: 10\n",
      "Number of trees: 50\n",
      "Number of trees: 100\n",
      "Number of trees: 200\n",
      "Number of trees: 500\n"
     ]
    },
    {
     "data": {
      "text/plain": "<Figure size 1200x600 with 1 Axes>",
      "image/png": "[encoded data removed]"
     },
     "metadata": {},
     "output_type": "display_data"
    }
   ],
   "source": [
    "# Number of trees to try\n",
    "n_trees_values = [1, 10, 50, 100, 200, 500]\n",
    "train_errors = []\n",
    "test_errors = []\n",
    "\n",
    "default_class = get_majority_class(train_data, target_attribute_name=\"y\")\n",
    "features = list(train_data.columns[:-1])\n",
    "\n",
    "# Main loop for Bagging experiment\n",
    "for n_trees in n_trees_values:\n",
    "    print(f\"Number of trees: {n_trees}\")\n",
    "    _, train_error, test_error = bagging(n_trees, train_data, test_data, features, default_class=default_class)\n",
    "    train_errors.append(train_error)\n",
    "    test_errors.append(test_error)\n",
    "\n",
    "# Plotting\n",
    "plt.figure(figsize=(12, 6))\n",
    "plt.plot(n_trees_values, train_errors, label='Train Error')\n",
    "plt.plot(n_trees_values, test_errors, label='Test Error')\n",
    "plt.xlabel('Number of Trees')\n",
    "plt.ylabel('Error')\n",
    "plt.legend()\n",
    "plt.title('Bagging: Error vs. Number of Trees')\n",
    "plt.show()"
   ],
   "metadata": {
    "collapsed": false,
    "ExecuteTime": {
     "end_time": "2023-10-27T22:04:24.344892Z",
     "start_time": "2023-10-27T21:34:07.547580Z"
    }
   },
   "id": "e6afce3875d1c5e0"
  },
  {
   "cell_type": "markdown",
   "source": [
    "## Problem 2C"
   ],
   "metadata": {
    "collapsed": false
   },
   "id": "9c82cf808b380128"
  },
  {
   "cell_type": "code",
   "execution_count": 54,
   "outputs": [
    {
     "name": "stdout",
     "output_type": "stream",
     "text": [
      "Run 1...\n",
      "Run 2...\n",
      "Run 3...\n",
      "Run 4...\n",
      "Run 5...\n",
      "Run 6...\n",
      "Run 7...\n",
      "Run 8...\n",
      "Run 9...\n",
      "Run 10...\n",
      "Run 11...\n",
      "Run 12...\n",
      "Run 13...\n",
      "Run 14...\n",
      "Run 15...\n",
      "Run 16...\n",
      "Run 17...\n",
      "Run 18...\n",
      "Run 19...\n",
      "Run 20...\n",
      "Run 21...\n",
      "Run 22...\n",
      "Run 23...\n",
      "Run 24...\n",
      "Run 25...\n",
      "Run 26...\n",
      "Run 27...\n",
      "Run 28...\n",
      "Run 29...\n",
      "Run 30...\n",
      "Run 31...\n",
      "Run 32...\n",
      "Run 33...\n",
      "Run 34...\n",
      "Run 35...\n",
      "Run 36...\n",
      "Run 37...\n",
      "Run 38...\n",
      "Run 39...\n",
      "Run 40...\n",
      "Run 41...\n",
      "Run 42...\n",
      "Run 43...\n",
      "Run 44...\n",
      "Run 45...\n",
      "Run 46...\n",
      "Run 47...\n",
      "Run 48...\n",
      "Run 49...\n",
      "Run 50...\n",
      "Run 51...\n",
      "Run 52...\n",
      "Run 53...\n",
      "Run 54...\n",
      "Run 55...\n",
      "Run 56...\n",
      "Run 57...\n",
      "Run 58...\n",
      "Run 59...\n",
      "Run 60...\n",
      "Run 61...\n",
      "Run 62...\n",
      "Run 63...\n",
      "Run 64...\n",
      "Run 65...\n",
      "Run 66...\n",
      "Run 67...\n",
      "Run 68...\n",
      "Run 69...\n",
      "Run 70...\n",
      "Run 71...\n",
      "Run 72...\n",
      "Run 73...\n",
      "Run 74...\n",
      "Run 75...\n",
      "Run 76...\n",
      "Run 77...\n",
      "Run 78...\n",
      "Run 79...\n",
      "Run 80...\n",
      "Run 81...\n",
      "Run 82...\n",
      "Run 83...\n",
      "Run 84...\n",
      "Run 85...\n",
      "Run 86...\n",
      "Run 87...\n",
      "Run 88...\n",
      "Run 89...\n",
      "Run 90...\n",
      "Run 91...\n",
      "Run 92...\n",
      "Run 93...\n",
      "Run 94...\n",
      "Run 95...\n",
      "Run 96...\n",
      "Run 97...\n",
      "Run 98...\n",
      "Run 99...\n",
      "Run 100...\n",
      "Bias for single trees: 0.11126799999999998\n",
      "Variance for single trees: 0.14110000000000014\n",
      "General squared error for single trees: 0.25236800000000015\n",
      "Bias for bagged trees: 0.1092701184\n",
      "Variance for bagged trees: 0.0003335936000000003\n",
      "General squared error for bagged trees: 0.109603712\n"
     ]
    }
   ],
   "source": [
    "n_runs = 100\n",
    "n_trees = 500\n",
    "sample_size = 1000\n",
    "test_size = len(test_data)\n",
    "\n",
    "single_tree_predictions = np.zeros((n_runs, test_size), dtype=int)\n",
    "bagged_tree_predictions = np.zeros((n_runs, test_size, n_trees), dtype=int)\n",
    "\n",
    "for run in range(n_runs):\n",
    "    print(f\"Run {run + 1}...\")\n",
    "\n",
    "    sampled_data = train_data.sample(sample_size, replace=False)\n",
    "\n",
    "    trees = [ID3_numeric(create_bootstrap_sample(sampled_data), sampled_data, features) for _ in range(n_trees)]\n",
    "\n",
    "    single_tree = trees[0]\n",
    "    single_tree_predictions[run] = np.array([bag_predict(row, single_tree) for _, row in test_data.iterrows()])\n",
    "\n",
    "    bagged_tree_predictions[run] = np.array([[bag_predict(row, tree) for tree in trees] for _, row in test_data.iterrows()])\n",
    "\n",
    "true_labels = test_data['y'].to_numpy()\n",
    "\n",
    "bias_single = np.mean((true_labels - np.mean(single_tree_predictions, axis=0)) ** 2)\n",
    "variance_single = np.mean(np.var(single_tree_predictions, axis=0))\n",
    "general_error_single = bias_single + variance_single\n",
    "\n",
    "mean_bagged_predictions = np.mean(bagged_tree_predictions, axis=(0, 2))\n",
    "bias_bagged = np.mean((true_labels - mean_bagged_predictions) ** 2)\n",
    "variance_bagged = np.mean(np.var(np.mean(bagged_tree_predictions, axis=2), axis=0))\n",
    "general_error_bagged = bias_bagged + variance_bagged\n",
    "\n",
    "print(f\"Bias for single trees: {bias_single}\")\n",
    "print(f\"Variance for single trees: {variance_single}\")\n",
    "print(f\"General squared error for single trees: {general_error_single}\")\n",
    "\n",
    "print(f\"Bias for bagged trees: {bias_bagged}\")\n",
    "print(f\"Variance for bagged trees: {variance_bagged}\")\n",
    "print(f\"General squared error for bagged trees: {general_error_bagged}\")"
   ],
   "metadata": {
    "collapsed": false,
    "ExecuteTime": {
     "end_time": "2023-10-27T22:16:15.639549Z",
     "start_time": "2023-10-27T22:15:42.970465Z"
    }
   },
   "id": "9ad60b151111801"
  },
  {
   "cell_type": "markdown",
   "source": [
    "## Problem 2D"
   ],
   "metadata": {
    "collapsed": false
   },
   "id": "4ef62551193abb92"
  },
  {
   "cell_type": "code",
   "execution_count": 55,
   "outputs": [],
   "source": [
    "import random\n",
    "def ID3_numeric_random_features(data, original_data, features, target_attribute_name=\"y\", parent_node_class=None,max_depth=None, depth=0, criterion=\"entropy\", feature_subset_size=None):\n",
    "    unique_targets = np.unique(data[target_attribute_name])\n",
    "    if len(unique_targets) == 1:\n",
    "        return unique_targets[0]\n",
    "\n",
    "    if len(data) == 0:\n",
    "        return get_majority_class(original_data, target_attribute_name)\n",
    "\n",
    "    if len(features) == 0 or (max_depth and depth == max_depth):\n",
    "        return parent_node_class\n",
    "\n",
    "    parent_node_class = get_majority_class(data, target_attribute_name)\n",
    "\n",
    "    if feature_subset_size:\n",
    "        selected_features = random.sample(features, feature_subset_size)\n",
    "    else:\n",
    "        selected_features = features\n",
    "\n",
    "    gains = [info_gain(data, feature, target_attribute_name, criterion) for feature in selected_features]\n",
    "    best_feature = selected_features[np.argmax(gains)]\n",
    "    tree = {best_feature: {}}\n",
    "\n",
    "    for value in np.unique(data[best_feature]):\n",
    "        best_val = data[best_feature] == value\n",
    "        sub_data = data.where(best_val).dropna()\n",
    "        remaining_features = [feat for feat in features if feat != best_feature]\n",
    "        subtree = ID3_numeric_random_features(\n",
    "            data=sub_data,\n",
    "            original_data=original_data,\n",
    "            features=remaining_features,\n",
    "            target_attribute_name=target_attribute_name,\n",
    "            parent_node_class=parent_node_class,\n",
    "            max_depth=max_depth,\n",
    "            depth=depth + 1,\n",
    "            criterion=criterion,\n",
    "            feature_subset_size=feature_subset_size  # Pass along the feature subset size\n",
    "        )\n",
    "\n",
    "        tree[best_feature][value] = subtree\n",
    "\n",
    "    return tree"
   ],
   "metadata": {
    "collapsed": false,
    "ExecuteTime": {
     "end_time": "2023-10-27T22:16:20.090395Z",
     "start_time": "2023-10-27T22:16:20.088259Z"
    }
   },
   "id": "691260f8827975bd"
  },
  {
   "cell_type": "code",
   "execution_count": 56,
   "outputs": [],
   "source": [
    "def random_forest(n_trees, train_data, test_data, features, target=\"y\", n_features=None, default_class=None):\n",
    "    trees = []\n",
    "    for _ in range(n_trees):\n",
    "\n",
    "        bootstrap_data = create_bootstrap_sample(train_data)\n",
    "        tree = ID3_numeric_random_features(bootstrap_data, bootstrap_data, features, feature_subset_size=n_features)\n",
    "        trees.append(tree)\n",
    "\n",
    "    train_predictions = np.array([batch_vote(trees, row,default_class) for _, row in train_data.iterrows()])\n",
    "    test_predictions = np.array([batch_vote(trees, row, default_class) for _, row in test_data.iterrows()])\n",
    "\n",
    "    train_error = sum(train_predictions != train_data[target].to_numpy()) / len(train_data)\n",
    "    test_error = sum(test_predictions != test_data[target].to_numpy()) / len(test_data)\n",
    "\n",
    "    return trees, train_error, test_error"
   ],
   "metadata": {
    "collapsed": false,
    "ExecuteTime": {
     "end_time": "2023-10-27T22:16:29.399718Z",
     "start_time": "2023-10-27T22:16:29.387234Z"
    }
   },
   "id": "553d9b02f255b4ca"
  },
  {
   "cell_type": "code",
   "execution_count": 57,
   "outputs": [
    {
     "name": "stdout",
     "output_type": "stream",
     "text": [
      "Number of trees: 1, Number of features: 2\n",
      "Number of trees: 2, Number of features: 2\n",
      "Number of trees: 3, Number of features: 2\n",
      "Number of trees: 4, Number of features: 2\n",
      "Number of trees: 5, Number of features: 2\n",
      "Number of trees: 6, Number of features: 2\n",
      "Number of trees: 7, Number of features: 2\n",
      "Number of trees: 8, Number of features: 2\n",
      "Number of trees: 9, Number of features: 2\n",
      "Number of trees: 10, Number of features: 2\n",
      "Number of trees: 11, Number of features: 2\n",
      "Number of trees: 12, Number of features: 2\n",
      "Number of trees: 13, Number of features: 2\n",
      "Number of trees: 14, Number of features: 2\n",
      "Number of trees: 15, Number of features: 2\n",
      "Number of trees: 16, Number of features: 2\n",
      "Number of trees: 17, Number of features: 2\n",
      "Number of trees: 18, Number of features: 2\n",
      "Number of trees: 19, Number of features: 2\n",
      "Number of trees: 20, Number of features: 2\n",
      "Number of trees: 21, Number of features: 2\n",
      "Number of trees: 22, Number of features: 2\n",
      "Number of trees: 23, Number of features: 2\n",
      "Number of trees: 24, Number of features: 2\n",
      "Number of trees: 25, Number of features: 2\n",
      "Number of trees: 26, Number of features: 2\n",
      "Number of trees: 27, Number of features: 2\n",
      "Number of trees: 28, Number of features: 2\n",
      "Number of trees: 29, Number of features: 2\n",
      "Number of trees: 30, Number of features: 2\n",
      "Number of trees: 31, Number of features: 2\n",
      "Number of trees: 32, Number of features: 2\n",
      "Number of trees: 33, Number of features: 2\n",
      "Number of trees: 34, Number of features: 2\n",
      "Number of trees: 35, Number of features: 2\n",
      "Number of trees: 36, Number of features: 2\n",
      "Number of trees: 37, Number of features: 2\n",
      "Number of trees: 38, Number of features: 2\n",
      "Number of trees: 39, Number of features: 2\n",
      "Number of trees: 40, Number of features: 2\n",
      "Number of trees: 41, Number of features: 2\n",
      "Number of trees: 42, Number of features: 2\n",
      "Number of trees: 43, Number of features: 2\n",
      "Number of trees: 44, Number of features: 2\n",
      "Number of trees: 45, Number of features: 2\n",
      "Number of trees: 46, Number of features: 2\n",
      "Number of trees: 47, Number of features: 2\n",
      "Number of trees: 48, Number of features: 2\n",
      "Number of trees: 49, Number of features: 2\n",
      "Number of trees: 50, Number of features: 2\n",
      "Number of trees: 51, Number of features: 2\n",
      "Number of trees: 52, Number of features: 2\n",
      "Number of trees: 53, Number of features: 2\n",
      "Number of trees: 54, Number of features: 2\n",
      "Number of trees: 55, Number of features: 2\n",
      "Number of trees: 56, Number of features: 2\n",
      "Number of trees: 57, Number of features: 2\n",
      "Number of trees: 58, Number of features: 2\n",
      "Number of trees: 59, Number of features: 2\n",
      "Number of trees: 60, Number of features: 2\n",
      "Number of trees: 61, Number of features: 2\n",
      "Number of trees: 62, Number of features: 2\n",
      "Number of trees: 63, Number of features: 2\n",
      "Number of trees: 64, Number of features: 2\n",
      "Number of trees: 65, Number of features: 2\n",
      "Number of trees: 66, Number of features: 2\n",
      "Number of trees: 67, Number of features: 2\n",
      "Number of trees: 68, Number of features: 2\n",
      "Number of trees: 69, Number of features: 2\n",
      "Number of trees: 70, Number of features: 2\n",
      "Number of trees: 71, Number of features: 2\n",
      "Number of trees: 72, Number of features: 2\n",
      "Number of trees: 73, Number of features: 2\n",
      "Number of trees: 74, Number of features: 2\n",
      "Number of trees: 75, Number of features: 2\n",
      "Number of trees: 76, Number of features: 2\n",
      "Number of trees: 77, Number of features: 2\n",
      "Number of trees: 78, Number of features: 2\n",
      "Number of trees: 79, Number of features: 2\n",
      "Number of trees: 80, Number of features: 2\n",
      "Number of trees: 81, Number of features: 2\n",
      "Number of trees: 82, Number of features: 2\n",
      "Number of trees: 83, Number of features: 2\n",
      "Number of trees: 84, Number of features: 2\n",
      "Number of trees: 85, Number of features: 2\n",
      "Number of trees: 86, Number of features: 2\n",
      "Number of trees: 87, Number of features: 2\n",
      "Number of trees: 88, Number of features: 2\n",
      "Number of trees: 89, Number of features: 2\n",
      "Number of trees: 90, Number of features: 2\n",
      "Number of trees: 91, Number of features: 2\n",
      "Number of trees: 92, Number of features: 2\n",
      "Number of trees: 93, Number of features: 2\n",
      "Number of trees: 94, Number of features: 2\n",
      "Number of trees: 95, Number of features: 2\n",
      "Number of trees: 96, Number of features: 2\n",
      "Number of trees: 97, Number of features: 2\n",
      "Number of trees: 98, Number of features: 2\n",
      "Number of trees: 99, Number of features: 2\n",
      "Number of trees: 100, Number of features: 2\n",
      "Number of trees: 101, Number of features: 2\n",
      "Number of trees: 102, Number of features: 2\n",
      "Number of trees: 103, Number of features: 2\n",
      "Number of trees: 104, Number of features: 2\n",
      "Number of trees: 105, Number of features: 2\n",
      "Number of trees: 106, Number of features: 2\n",
      "Number of trees: 107, Number of features: 2\n",
      "Number of trees: 108, Number of features: 2\n",
      "Number of trees: 109, Number of features: 2\n",
      "Number of trees: 110, Number of features: 2\n",
      "Number of trees: 111, Number of features: 2\n",
      "Number of trees: 112, Number of features: 2\n",
      "Number of trees: 113, Number of features: 2\n",
      "Number of trees: 114, Number of features: 2\n",
      "Number of trees: 115, Number of features: 2\n",
      "Number of trees: 116, Number of features: 2\n",
      "Number of trees: 117, Number of features: 2\n",
      "Number of trees: 118, Number of features: 2\n",
      "Number of trees: 119, Number of features: 2\n",
      "Number of trees: 120, Number of features: 2\n",
      "Number of trees: 121, Number of features: 2\n",
      "Number of trees: 122, Number of features: 2\n",
      "Number of trees: 123, Number of features: 2\n",
      "Number of trees: 124, Number of features: 2\n",
      "Number of trees: 125, Number of features: 2\n",
      "Number of trees: 126, Number of features: 2\n",
      "Number of trees: 127, Number of features: 2\n",
      "Number of trees: 128, Number of features: 2\n",
      "Number of trees: 129, Number of features: 2\n",
      "Number of trees: 130, Number of features: 2\n",
      "Number of trees: 131, Number of features: 2\n",
      "Number of trees: 132, Number of features: 2\n",
      "Number of trees: 133, Number of features: 2\n",
      "Number of trees: 134, Number of features: 2\n",
      "Number of trees: 135, Number of features: 2\n",
      "Number of trees: 136, Number of features: 2\n",
      "Number of trees: 137, Number of features: 2\n",
      "Number of trees: 138, Number of features: 2\n",
      "Number of trees: 139, Number of features: 2\n",
      "Number of trees: 140, Number of features: 2\n",
      "Number of trees: 141, Number of features: 2\n",
      "Number of trees: 142, Number of features: 2\n",
      "Number of trees: 143, Number of features: 2\n",
      "Number of trees: 144, Number of features: 2\n",
      "Number of trees: 145, Number of features: 2\n",
      "Number of trees: 146, Number of features: 2\n",
      "Number of trees: 147, Number of features: 2\n",
      "Number of trees: 148, Number of features: 2\n",
      "Number of trees: 149, Number of features: 2\n",
      "Number of trees: 150, Number of features: 2\n",
      "Number of trees: 151, Number of features: 2\n",
      "Number of trees: 152, Number of features: 2\n",
      "Number of trees: 153, Number of features: 2\n",
      "Number of trees: 154, Number of features: 2\n",
      "Number of trees: 155, Number of features: 2\n",
      "Number of trees: 156, Number of features: 2\n",
      "Number of trees: 157, Number of features: 2\n",
      "Number of trees: 158, Number of features: 2\n",
      "Number of trees: 159, Number of features: 2\n",
      "Number of trees: 160, Number of features: 2\n",
      "Number of trees: 161, Number of features: 2\n",
      "Number of trees: 162, Number of features: 2\n",
      "Number of trees: 163, Number of features: 2\n",
      "Number of trees: 164, Number of features: 2\n",
      "Number of trees: 165, Number of features: 2\n",
      "Number of trees: 166, Number of features: 2\n",
      "Number of trees: 167, Number of features: 2\n",
      "Number of trees: 168, Number of features: 2\n",
      "Number of trees: 169, Number of features: 2\n",
      "Number of trees: 170, Number of features: 2\n",
      "Number of trees: 171, Number of features: 2\n",
      "Number of trees: 172, Number of features: 2\n",
      "Number of trees: 173, Number of features: 2\n",
      "Number of trees: 174, Number of features: 2\n",
      "Number of trees: 175, Number of features: 2\n",
      "Number of trees: 176, Number of features: 2\n",
      "Number of trees: 177, Number of features: 2\n",
      "Number of trees: 178, Number of features: 2\n",
      "Number of trees: 179, Number of features: 2\n",
      "Number of trees: 180, Number of features: 2\n",
      "Number of trees: 181, Number of features: 2\n",
      "Number of trees: 182, Number of features: 2\n",
      "Number of trees: 183, Number of features: 2\n",
      "Number of trees: 184, Number of features: 2\n",
      "Number of trees: 185, Number of features: 2\n",
      "Number of trees: 186, Number of features: 2\n",
      "Number of trees: 187, Number of features: 2\n",
      "Number of trees: 188, Number of features: 2\n",
      "Number of trees: 189, Number of features: 2\n",
      "Number of trees: 190, Number of features: 2\n",
      "Number of trees: 191, Number of features: 2\n",
      "Number of trees: 192, Number of features: 2\n",
      "Number of trees: 193, Number of features: 2\n",
      "Number of trees: 194, Number of features: 2\n",
      "Number of trees: 195, Number of features: 2\n",
      "Number of trees: 196, Number of features: 2\n",
      "Number of trees: 197, Number of features: 2\n",
      "Number of trees: 198, Number of features: 2\n",
      "Number of trees: 199, Number of features: 2\n",
      "Number of trees: 200, Number of features: 2\n",
      "Number of trees: 201, Number of features: 2\n",
      "Number of trees: 202, Number of features: 2\n",
      "Number of trees: 203, Number of features: 2\n",
      "Number of trees: 204, Number of features: 2\n",
      "Number of trees: 205, Number of features: 2\n",
      "Number of trees: 206, Number of features: 2\n",
      "Number of trees: 207, Number of features: 2\n",
      "Number of trees: 208, Number of features: 2\n",
      "Number of trees: 209, Number of features: 2\n",
      "Number of trees: 210, Number of features: 2\n",
      "Number of trees: 211, Number of features: 2\n",
      "Number of trees: 212, Number of features: 2\n",
      "Number of trees: 213, Number of features: 2\n",
      "Number of trees: 214, Number of features: 2\n",
      "Number of trees: 215, Number of features: 2\n",
      "Number of trees: 216, Number of features: 2\n",
      "Number of trees: 217, Number of features: 2\n",
      "Number of trees: 218, Number of features: 2\n",
      "Number of trees: 219, Number of features: 2\n",
      "Number of trees: 220, Number of features: 2\n",
      "Number of trees: 221, Number of features: 2\n",
      "Number of trees: 222, Number of features: 2\n",
      "Number of trees: 223, Number of features: 2\n",
      "Number of trees: 224, Number of features: 2\n",
      "Number of trees: 225, Number of features: 2\n",
      "Number of trees: 226, Number of features: 2\n",
      "Number of trees: 227, Number of features: 2\n",
      "Number of trees: 228, Number of features: 2\n",
      "Number of trees: 229, Number of features: 2\n",
      "Number of trees: 230, Number of features: 2\n",
      "Number of trees: 231, Number of features: 2\n",
      "Number of trees: 232, Number of features: 2\n",
      "Number of trees: 233, Number of features: 2\n",
      "Number of trees: 234, Number of features: 2\n",
      "Number of trees: 235, Number of features: 2\n",
      "Number of trees: 236, Number of features: 2\n",
      "Number of trees: 237, Number of features: 2\n",
      "Number of trees: 238, Number of features: 2\n",
      "Number of trees: 239, Number of features: 2\n",
      "Number of trees: 240, Number of features: 2\n",
      "Number of trees: 241, Number of features: 2\n",
      "Number of trees: 242, Number of features: 2\n",
      "Number of trees: 243, Number of features: 2\n",
      "Number of trees: 244, Number of features: 2\n",
      "Number of trees: 245, Number of features: 2\n",
      "Number of trees: 246, Number of features: 2\n",
      "Number of trees: 247, Number of features: 2\n",
      "Number of trees: 248, Number of features: 2\n",
      "Number of trees: 249, Number of features: 2\n",
      "Number of trees: 250, Number of features: 2\n",
      "Number of trees: 251, Number of features: 2\n",
      "Number of trees: 252, Number of features: 2\n",
      "Number of trees: 253, Number of features: 2\n",
      "Number of trees: 254, Number of features: 2\n",
      "Number of trees: 255, Number of features: 2\n",
      "Number of trees: 256, Number of features: 2\n",
      "Number of trees: 257, Number of features: 2\n",
      "Number of trees: 258, Number of features: 2\n",
      "Number of trees: 259, Number of features: 2\n",
      "Number of trees: 260, Number of features: 2\n",
      "Number of trees: 261, Number of features: 2\n",
      "Number of trees: 262, Number of features: 2\n",
      "Number of trees: 263, Number of features: 2\n",
      "Number of trees: 264, Number of features: 2\n",
      "Number of trees: 265, Number of features: 2\n",
      "Number of trees: 266, Number of features: 2\n",
      "Number of trees: 267, Number of features: 2\n",
      "Number of trees: 268, Number of features: 2\n",
      "Number of trees: 269, Number of features: 2\n",
      "Number of trees: 270, Number of features: 2\n",
      "Number of trees: 271, Number of features: 2\n",
      "Number of trees: 272, Number of features: 2\n",
      "Number of trees: 273, Number of features: 2\n",
      "Number of trees: 274, Number of features: 2\n",
      "Number of trees: 275, Number of features: 2\n",
      "Number of trees: 276, Number of features: 2\n",
      "Number of trees: 277, Number of features: 2\n",
      "Number of trees: 278, Number of features: 2\n",
      "Number of trees: 279, Number of features: 2\n",
      "Number of trees: 280, Number of features: 2\n",
      "Number of trees: 281, Number of features: 2\n",
      "Number of trees: 282, Number of features: 2\n",
      "Number of trees: 283, Number of features: 2\n",
      "Number of trees: 284, Number of features: 2\n",
      "Number of trees: 285, Number of features: 2\n",
      "Number of trees: 286, Number of features: 2\n",
      "Number of trees: 287, Number of features: 2\n",
      "Number of trees: 288, Number of features: 2\n",
      "Number of trees: 289, Number of features: 2\n",
      "Number of trees: 290, Number of features: 2\n",
      "Number of trees: 291, Number of features: 2\n",
      "Number of trees: 292, Number of features: 2\n",
      "Number of trees: 293, Number of features: 2\n",
      "Number of trees: 294, Number of features: 2\n"
     ]
    },
    {
     "ename": "KeyboardInterrupt",
     "evalue": "",
     "output_type": "error",
     "traceback": [
      "\u001B[0;31m---------------------------------------------------------------------------\u001B[0m",
      "\u001B[0;31mKeyboardInterrupt\u001B[0m                         Traceback (most recent call last)",
      "Cell \u001B[0;32mIn[57], line 10\u001B[0m\n\u001B[1;32m      8\u001B[0m \u001B[38;5;28;01mfor\u001B[39;00m n_trees \u001B[38;5;129;01min\u001B[39;00m n_trees_values:\n\u001B[1;32m      9\u001B[0m     \u001B[38;5;28mprint\u001B[39m(\u001B[38;5;124mf\u001B[39m\u001B[38;5;124m\"\u001B[39m\u001B[38;5;124mNumber of trees: \u001B[39m\u001B[38;5;132;01m{\u001B[39;00mn_trees\u001B[38;5;132;01m}\u001B[39;00m\u001B[38;5;124m, Number of features: \u001B[39m\u001B[38;5;132;01m{\u001B[39;00mn_features\u001B[38;5;132;01m}\u001B[39;00m\u001B[38;5;124m\"\u001B[39m)\n\u001B[0;32m---> 10\u001B[0m     _, train_error_rf, test_error_rf \u001B[38;5;241m=\u001B[39m random_forest(n_trees, train_data, test_data, features, n_features\u001B[38;5;241m=\u001B[39mn_features, default_class\u001B[38;5;241m=\u001B[39mdefault_class)\n\u001B[1;32m     11\u001B[0m     train_errors_rf\u001B[38;5;241m.\u001B[39mappend(train_error_rf)\n\u001B[1;32m     12\u001B[0m     test_errors_rf\u001B[38;5;241m.\u001B[39mappend(test_error_rf)\n",
      "Cell \u001B[0;32mIn[56], line 9\u001B[0m, in \u001B[0;36mrandom_forest\u001B[0;34m(n_trees, train_data, test_data, features, target, n_features, default_class)\u001B[0m\n\u001B[1;32m      6\u001B[0m     tree \u001B[38;5;241m=\u001B[39m ID3_numeric_random_features(bootstrap_data, bootstrap_data, features, feature_subset_size\u001B[38;5;241m=\u001B[39mn_features)\n\u001B[1;32m      7\u001B[0m     trees\u001B[38;5;241m.\u001B[39mappend(tree)\n\u001B[0;32m----> 9\u001B[0m train_predictions \u001B[38;5;241m=\u001B[39m np\u001B[38;5;241m.\u001B[39marray([batch_vote(trees, row,default_class) \u001B[38;5;28;01mfor\u001B[39;00m _, row \u001B[38;5;129;01min\u001B[39;00m train_data\u001B[38;5;241m.\u001B[39miterrows()])\n\u001B[1;32m     10\u001B[0m test_predictions \u001B[38;5;241m=\u001B[39m np\u001B[38;5;241m.\u001B[39marray([batch_vote(trees, row, default_class) \u001B[38;5;28;01mfor\u001B[39;00m _, row \u001B[38;5;129;01min\u001B[39;00m test_data\u001B[38;5;241m.\u001B[39miterrows()])\n\u001B[1;32m     12\u001B[0m train_error \u001B[38;5;241m=\u001B[39m \u001B[38;5;28msum\u001B[39m(train_predictions \u001B[38;5;241m!=\u001B[39m train_data[target]\u001B[38;5;241m.\u001B[39mto_numpy()) \u001B[38;5;241m/\u001B[39m \u001B[38;5;28mlen\u001B[39m(train_data)\n",
      "Cell \u001B[0;32mIn[56], line 9\u001B[0m, in \u001B[0;36m<listcomp>\u001B[0;34m(.0)\u001B[0m\n\u001B[1;32m      6\u001B[0m     tree \u001B[38;5;241m=\u001B[39m ID3_numeric_random_features(bootstrap_data, bootstrap_data, features, feature_subset_size\u001B[38;5;241m=\u001B[39mn_features)\n\u001B[1;32m      7\u001B[0m     trees\u001B[38;5;241m.\u001B[39mappend(tree)\n\u001B[0;32m----> 9\u001B[0m train_predictions \u001B[38;5;241m=\u001B[39m np\u001B[38;5;241m.\u001B[39marray([batch_vote(trees, row,default_class) \u001B[38;5;28;01mfor\u001B[39;00m _, row \u001B[38;5;129;01min\u001B[39;00m train_data\u001B[38;5;241m.\u001B[39miterrows()])\n\u001B[1;32m     10\u001B[0m test_predictions \u001B[38;5;241m=\u001B[39m np\u001B[38;5;241m.\u001B[39marray([batch_vote(trees, row, default_class) \u001B[38;5;28;01mfor\u001B[39;00m _, row \u001B[38;5;129;01min\u001B[39;00m test_data\u001B[38;5;241m.\u001B[39miterrows()])\n\u001B[1;32m     12\u001B[0m train_error \u001B[38;5;241m=\u001B[39m \u001B[38;5;28msum\u001B[39m(train_predictions \u001B[38;5;241m!=\u001B[39m train_data[target]\u001B[38;5;241m.\u001B[39mto_numpy()) \u001B[38;5;241m/\u001B[39m \u001B[38;5;28mlen\u001B[39m(train_data)\n",
      "Cell \u001B[0;32mIn[50], line 8\u001B[0m, in \u001B[0;36mbatch_vote\u001B[0;34m(trees, data, default_class)\u001B[0m\n\u001B[1;32m      6\u001B[0m     predictions \u001B[38;5;241m=\u001B[39m data\u001B[38;5;241m.\u001B[39mapply(\u001B[38;5;28;01mlambda\u001B[39;00m row: bag_predict(row, tree, default_class), axis\u001B[38;5;241m=\u001B[39m\u001B[38;5;241m1\u001B[39m)\n\u001B[1;32m      7\u001B[0m \u001B[38;5;28;01melif\u001B[39;00m \u001B[38;5;28misinstance\u001B[39m(data, pd\u001B[38;5;241m.\u001B[39mSeries):\n\u001B[0;32m----> 8\u001B[0m     predictions \u001B[38;5;241m=\u001B[39m bag_predict(data, tree, default_class)\n\u001B[1;32m      9\u001B[0m \u001B[38;5;28;01melse\u001B[39;00m:\n\u001B[1;32m     10\u001B[0m     \u001B[38;5;28;01mraise\u001B[39;00m \u001B[38;5;167;01mValueError\u001B[39;00m(\u001B[38;5;124m\"\u001B[39m\u001B[38;5;124mUnsupported data type. Expected a DataFrame or Series.\u001B[39m\u001B[38;5;124m\"\u001B[39m)\n",
      "Cell \u001B[0;32mIn[49], line 1\u001B[0m, in \u001B[0;36mbag_predict\u001B[0;34m(row, tree, default_class)\u001B[0m\n\u001B[0;32m----> 1\u001B[0m \u001B[38;5;28;01mdef\u001B[39;00m \u001B[38;5;21mbag_predict\u001B[39m(row, tree, default_class\u001B[38;5;241m=\u001B[39m\u001B[38;5;28;01mNone\u001B[39;00m):\n\u001B[1;32m      2\u001B[0m     current_node \u001B[38;5;241m=\u001B[39m tree\n\u001B[1;32m      3\u001B[0m     \u001B[38;5;28;01mwhile\u001B[39;00m \u001B[38;5;28misinstance\u001B[39m(current_node, \u001B[38;5;28mdict\u001B[39m):\n",
      "\u001B[0;31mKeyboardInterrupt\u001B[0m: "
     ]
    }
   ],
   "source": [
    "feature_subset_sizes = [2, 4, 6]\n",
    "n_trees_values = list(range(1, 501))\n",
    "default_class = get_majority_class(train_data, target_attribute_name=\"y\")\n",
    "for n_features in feature_subset_sizes:\n",
    "    impurity_cache.clear()\n",
    "    train_errors_rf = []\n",
    "    test_errors_rf = []\n",
    "    for n_trees in n_trees_values:\n",
    "        print(f\"Number of trees: {n_trees}, Number of features: {n_features}\")\n",
    "        _, train_error_rf, test_error_rf = random_forest(n_trees, train_data, test_data, features, n_features=n_features, default_class=default_class)\n",
    "        train_errors_rf.append(train_error_rf)\n",
    "        test_errors_rf.append(test_error_rf)\n",
    "\n",
    "    plt.figure(figsize=(12, 6))\n",
    "    plt.plot(n_trees_values, train_errors_rf, label=f'Train Error with {n_features} features')\n",
    "    plt.plot(n_trees_values, test_errors_rf, label=f'Test Error with {n_features} features')\n",
    "    plt.xlabel('Number of Trees')\n",
    "    plt.ylabel('Error')\n",
    "    plt.legend()\n",
    "    plt.title(f'Random Forest: Error vs. Number of Trees with {n_features} features')\n",
    "    plt.show()"
   ],
   "metadata": {
    "collapsed": false,
    "ExecuteTime": {
     "end_time": "2023-10-27T22:18:03.838052Z",
     "start_time": "2023-10-27T22:16:36.990577Z"
    }
   },
   "id": "dd08f6c891c88404"
  },
  {
   "cell_type": "markdown",
   "source": [
    "## Problem 2E"
   ],
   "metadata": {
    "collapsed": false
   },
   "id": "641a2994b4779f6c"
  },
  {
   "cell_type": "code",
   "execution_count": 58,
   "outputs": [
    {
     "name": "stdout",
     "output_type": "stream",
     "text": [
      "Run 1...\n",
      "Run 2...\n",
      "Run 3...\n",
      "Run 4...\n",
      "Run 5...\n",
      "Run 6...\n",
      "Run 7...\n",
      "Run 8...\n",
      "Run 9...\n",
      "Run 10...\n",
      "Run 11...\n",
      "Run 12...\n",
      "Run 13...\n",
      "Run 14...\n",
      "Run 15...\n",
      "Run 16...\n",
      "Run 17...\n",
      "Run 18...\n",
      "Run 19...\n",
      "Run 20...\n",
      "Run 21...\n",
      "Run 22...\n",
      "Run 23...\n",
      "Run 24...\n",
      "Run 25...\n",
      "Run 26...\n",
      "Run 27...\n",
      "Run 28...\n",
      "Run 29...\n",
      "Run 30...\n",
      "Run 31...\n",
      "Run 32...\n",
      "Run 33...\n",
      "Run 34...\n",
      "Run 35...\n",
      "Run 36...\n",
      "Run 37...\n",
      "Run 38...\n",
      "Run 39...\n",
      "Run 40...\n",
      "Run 41...\n",
      "Run 42...\n",
      "Run 43...\n",
      "Run 44...\n",
      "Run 45...\n",
      "Run 46...\n",
      "Run 47...\n",
      "Run 48...\n",
      "Run 49...\n",
      "Run 50...\n",
      "Run 51...\n",
      "Run 52...\n",
      "Run 53...\n",
      "Run 54...\n",
      "Run 55...\n",
      "Run 56...\n",
      "Run 57...\n",
      "Run 58...\n",
      "Run 59...\n",
      "Run 60...\n",
      "Run 61...\n",
      "Run 62...\n",
      "Run 63...\n",
      "Run 64...\n",
      "Run 65...\n",
      "Run 66...\n",
      "Run 67...\n",
      "Run 68...\n",
      "Run 69...\n",
      "Run 70...\n",
      "Run 71...\n",
      "Run 72...\n",
      "Run 73...\n",
      "Run 74...\n",
      "Run 75...\n",
      "Run 76...\n",
      "Run 77...\n",
      "Run 78...\n",
      "Run 79...\n",
      "Run 80...\n",
      "Run 81...\n",
      "Run 82...\n",
      "Run 83...\n",
      "Run 84...\n",
      "Run 85...\n",
      "Run 86...\n",
      "Run 87...\n",
      "Run 88...\n",
      "Run 89...\n",
      "Run 90...\n",
      "Run 91...\n",
      "Run 92...\n",
      "Run 93...\n",
      "Run 94...\n",
      "Run 95...\n",
      "Run 96...\n",
      "Run 97...\n",
      "Run 98...\n",
      "Run 99...\n",
      "Run 100...\n",
      "Bias for single random trees: 0.113424\n",
      "Variance for single random trees: 0.05639999999999991\n",
      "General squared error for single random trees: 0.16982399999999992\n",
      "Bias for random forests: 0.10925883239999998\n",
      "Variance for random forests: 0.00026243959999999993\n",
      "General squared error for random forests: 0.10952127199999998\n"
     ]
    }
   ],
   "source": [
    "single_random_tree_predictions = []\n",
    "random_forest_predictions = []\n",
    "\n",
    "n_runs = 100  \n",
    "sample_size = 1000 \n",
    "n_features = 4  \n",
    "n_trees_rf = 500  \n",
    "impurity_cache.clear()  \n",
    "\n",
    "for run in range(n_runs):\n",
    "    print(f\"Run {run + 1}...\")\n",
    "    sampled_data = train_data.sample(sample_size, replace=False)\n",
    "\n",
    "    trees_rf, _, _ = random_forest(n_trees_rf, sampled_data, test_data, features, n_features=n_features)\n",
    "\n",
    "    single_random_tree = trees_rf[0]\n",
    "    single_random_tree_predictions.append([bag_predict(row, single_random_tree) for _, row in test_data.iterrows()])\n",
    "\n",
    "    random_forest_preds = [[bag_predict(row, tree) for tree in trees_rf] for _, row in test_data.iterrows()]\n",
    "    random_forest_predictions.append(random_forest_preds)\n",
    "\n",
    "single_random_tree_predictions = np.array(single_random_tree_predictions)\n",
    "random_forest_predictions = np.array(random_forest_predictions)\n",
    "\n",
    "bias_single_random = np.mean((true_labels - np.mean(single_random_tree_predictions, axis=0)) ** 2)\n",
    "variance_single_random = np.mean(np.var(single_random_tree_predictions, axis=0))\n",
    "general_error_single_random = bias_single_random + variance_single_random\n",
    "\n",
    "mean_rf_predictions = np.mean(random_forest_predictions, axis=2)\n",
    "\n",
    "bias_rf = np.mean((true_labels - np.mean(mean_rf_predictions, axis=0)) ** 2)\n",
    "variance_rf = np.mean(np.var(mean_rf_predictions, axis=0))\n",
    "general_error_rf = bias_rf + variance_rf\n",
    "\n",
    "print(f\"Bias for single random trees: {bias_single_random}\")\n",
    "print(f\"Variance for single random trees: {variance_single_random}\")\n",
    "print(f\"General squared error for single random trees: {general_error_single_random}\")\n",
    "\n",
    "print(f\"Bias for random forests: {bias_rf}\")\n",
    "print(f\"Variance for random forests: {variance_rf}\")\n",
    "print(f\"General squared error for random forests: {general_error_rf}\")"
   ],
   "metadata": {
    "collapsed": false,
    "ExecuteTime": {
     "end_time": "2023-10-27T22:19:23.411593Z",
     "start_time": "2023-10-27T22:18:06.636915Z"
    }
   },
   "id": "ef26292ce302b39d"
  },
  {
   "cell_type": "code",
   "execution_count": null,
   "outputs": [],
   "source": [],
   "metadata": {
    "collapsed": false,
    "ExecuteTime": {
     "start_time": "2023-10-27T22:05:03.266850Z"
    }
   },
   "id": "37b4c5f68324038d"
  }
 ],
 "metadata": {
  "kernelspec": {
   "display_name": "Python 3",
   "language": "python",
   "name": "python3"
  },
  "language_info": {
   "codemirror_mode": {
    "name": "ipython",
    "version": 2
   },
   "file_extension": ".py",
   "mimetype": "text/x-python",
   "name": "python",
   "nbconvert_exporter": "python",
   "pygments_lexer": "ipython2",
   "version": "2.7.6"
  }
 },
 "nbformat": 4,
 "nbformat_minor": 5
}
