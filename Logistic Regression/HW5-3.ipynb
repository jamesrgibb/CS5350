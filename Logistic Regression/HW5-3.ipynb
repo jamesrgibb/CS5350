{
 "cells": [
  {
   "cell_type": "code",
   "execution_count": 2,
   "id": "initial_id",
   "metadata": {
    "collapsed": true,
    "ExecuteTime": {
     "end_time": "2023-12-10T20:55:59.727989Z",
     "start_time": "2023-12-10T20:55:59.619583Z"
    }
   },
   "outputs": [
    {
     "name": "stdout",
     "output_type": "stream",
     "text": [
      "Variance: 0.01, Training Accuracy: 0.7052752293577982, Test Accuracy: 0.702\n",
      "Variance: 0.1, Training Accuracy: 0.7786697247706422, Test Accuracy: 0.788\n",
      "Variance: 0.5, Training Accuracy: 0.9002293577981652, Test Accuracy: 0.896\n",
      "Variance: 1, Training Accuracy: 0.930045871559633, Test Accuracy: 0.908\n",
      "Variance: 3, Training Accuracy: 0.944954128440367, Test Accuracy: 0.926\n",
      "Variance: 5, Training Accuracy: 0.9438073394495413, Test Accuracy: 0.93\n",
      "Variance: 10, Training Accuracy: 0.9518348623853211, Test Accuracy: 0.932\n",
      "Variance: 100, Training Accuracy: 0.9541284403669725, Test Accuracy: 0.936\n"
     ]
    }
   ],
   "source": [
    "import numpy as np\n",
    "import pandas as pd\n",
    "from sklearn.metrics import accuracy_score\n",
    "\n",
    "def load_data(file_path):\n",
    "    data = pd.read_csv(file_path, header=None)\n",
    "    X = data.iloc[:, :-1].values\n",
    "    y = data.iloc[:, -1].values\n",
    "    return X, y\n",
    "\n",
    "def logistic_regression_reg(X, y, learning_rate, epochs, batch_size, v, gamma_0, d):\n",
    "    n_samples, n_features = X.shape\n",
    "    weights = np.zeros(n_features)\n",
    "    bias = 0\n",
    "\n",
    "    for epoch in range(epochs):\n",
    "        learning_rate_t = gamma_0 / (1 + gamma_0 / d * epoch)\n",
    "        indices = np.random.permutation(n_samples)\n",
    "        X_shuffled, y_shuffled = X[indices], y[indices]\n",
    "\n",
    "        for start in range(0, n_samples, batch_size):\n",
    "            end = min(start + batch_size, n_samples)\n",
    "            X_batch, y_batch = X_shuffled[start:end], y_shuffled[start:end]\n",
    "\n",
    "            linear_model = np.dot(X_batch, weights)\n",
    "            y_predicted = sigmoid(linear_model)\n",
    "\n",
    "            gradient = np.dot(X_batch.T, (y_predicted - y_batch)) / batch_size + weights / v\n",
    "            weights -= learning_rate_t * gradient\n",
    "\n",
    "    return weights,bias\n",
    "\n",
    "def sigmoid(z):\n",
    "    return 1 / (1 + np.exp(-z))\n",
    "\n",
    "def predict(X, weights, biases):\n",
    "    linear_model = np.dot(X, weights) + biases\n",
    "    y_predicted = sigmoid(linear_model)\n",
    "    y_predicted_cls = [1 if i > 0.5 else 0 for i in y_predicted]\n",
    "    return np.array(y_predicted_cls)\n",
    "\n",
    "def evaluate(X, y, weights, bias):\n",
    "    linear_model = np.dot(X, weights) + bias\n",
    "    y_predicted = sigmoid(linear_model)\n",
    "    predictions = np.round(y_predicted).astype(int)\n",
    "    return accuracy_score(y, predictions)\n",
    "\n",
    "X_train, y_train = load_data('bank-note/train.csv')\n",
    "X_test, y_test = load_data('bank-note/test.csv')\n",
    "\n",
    "gamma_0 = 0.01\n",
    "d = 0.1\n",
    "epochs = 100\n",
    "batch_size = 64\n",
    "variances = [0.01, 0.1, 0.5, 1, 3, 5, 10, 100]\n",
    "\n",
    "for v in variances:\n",
    "    weights, bias = logistic_regression_reg(X_train, y_train, gamma_0, epochs, batch_size, v, gamma_0, d)\n",
    "    train_accuracy = evaluate(X_train, y_train, weights, bias)\n",
    "    test_accuracy = evaluate(X_test, y_test, weights, bias)\n",
    "    print(f\"Variance: {v}, Training Accuracy: {train_accuracy}, Test Accuracy: {test_accuracy}\")\n"
   ]
  },
  {
   "cell_type": "code",
   "execution_count": 32,
   "outputs": [
    {
     "name": "stdout",
     "output_type": "stream",
     "text": [
      "ML Estimation - Training Error: 4.01%, Test Error: 4.80%\n"
     ]
    }
   ],
   "source": [
    "def compute_gradient_ml(X, y, weights):\n",
    "    predictions = sigmoid(np.dot(X, weights))\n",
    "    logistic_grad = np.dot(X.T, (predictions - y)) / len(X)\n",
    "    return logistic_grad\n",
    "\n",
    "def train_logistic_regression_ml(X_train, y_train, gamma_0, d, epochs=100):\n",
    "    weights = np.zeros(X_train.shape[1])\n",
    "    for epoch in range(epochs):\n",
    "        permutation = np.random.permutation(len(X_train))\n",
    "        X_train_shuffled = X_train[permutation]\n",
    "        y_train_shuffled = y_train[permutation]\n",
    "        for t, (x, y) in enumerate(zip(X_train_shuffled, y_train_shuffled)):\n",
    "            gamma_t = gamma_0 / (1 + (gamma_0 / d) * t)\n",
    "            gradient = compute_gradient_ml(x.reshape(1, -1), y, weights)\n",
    "            weights -= gamma_t * gradient\n",
    "    return weights\n",
    "\n",
    "def compute_error(X, y, weights):\n",
    "    predictions = predict(X, weights)\n",
    "    errors = np.mean(predictions != y)\n",
    "    return errors\n",
    "\n",
    "def predict(X, weights):\n",
    "    linear_model = np.dot(X, weights)\n",
    "    y_predicted = sigmoid(linear_model)\n",
    "    return np.round(y_predicted).astype(int)\n",
    "\n",
    "gamma_0 = .01\n",
    "d = 0.1\n",
    "\n",
    "weights_ml = train_logistic_regression_ml(X_train, y_train, gamma_0, d)\n",
    "\n",
    "train_error_ml = compute_error(X_train, y_train, weights_ml)\n",
    "test_error_ml = compute_error(X_test, y_test, weights_ml)\n",
    "\n",
    "print(f\"ML Estimation - Training Error: {train_error_ml * 100:.2f}%, Test Error: {test_error_ml * 100:.2f}%\")"
   ],
   "metadata": {
    "collapsed": false,
    "ExecuteTime": {
     "end_time": "2023-12-08T17:57:13.486665Z",
     "start_time": "2023-12-08T17:57:13.026549Z"
    }
   },
   "id": "226bbdffb74d3940"
  }
 ],
 "metadata": {
  "kernelspec": {
   "display_name": "Python 3",
   "language": "python",
   "name": "python3"
  },
  "language_info": {
   "codemirror_mode": {
    "name": "ipython",
    "version": 2
   },
   "file_extension": ".py",
   "mimetype": "text/x-python",
   "name": "python",
   "nbconvert_exporter": "python",
   "pygments_lexer": "ipython2",
   "version": "2.7.6"
  }
 },
 "nbformat": 4,
 "nbformat_minor": 5
}
